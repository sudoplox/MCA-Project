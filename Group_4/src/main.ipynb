{
  "nbformat": 4,
  "nbformat_minor": 0,
  "metadata": {
    "colab": {
      "name": "unzip.ipynb",
      "provenance": [],
      "collapsed_sections": [],
      "machine_shape": "hm"
    },
    "kernelspec": {
      "name": "python3",
      "display_name": "Python 3"
    },
    "accelerator": "GPU"
  },
  "cells": [
    {
      "cell_type": "code",
      "metadata": {
        "id": "bQCz-0jTE8xd",
        "colab_type": "code",
        "outputId": "c75cb0f9-c423-4ca9-b7ad-fff6299f9a39",
        "colab": {
          "base_uri": "https://localhost:8080/",
          "height": 34
        }
      },
      "source": [
        "import zipfile\n",
        "import re\n",
        "import urllib\n",
        "import os\n",
        "import numpy as np\n",
        "import pandas as pd\n",
        "import argparse\n",
        "import torch\n",
        "import torchvision.models\n",
        "import torchvision.transforms as transforms\n",
        "from PIL import Image\n",
        "import keras\n",
        "import copy\n",
        "import pickle\n",
        "import random\n",
        "device = torch.device('cuda' if torch.cuda.is_available() else 'cpu')\n",
        "\n",
        "from PIL import ImageFile\n",
        "ImageFile.LOAD_TRUNCATED_IMAGES = True"
      ],
      "execution_count": 0,
      "outputs": [
        {
          "output_type": "stream",
          "text": [
            "Using TensorFlow backend.\n"
          ],
          "name": "stderr"
        }
      ]
    },
    {
      "cell_type": "code",
      "metadata": {
        "id": "58ezgZ-N3DZN",
        "colab_type": "code",
        "outputId": "25c69e0a-ec24-403b-977b-90cc12fb6f9f",
        "colab": {
          "base_uri": "https://localhost:8080/",
          "height": 34
        }
      },
      "source": [
        "from google.colab import drive\n",
        "drive.mount('/content/drive')"
      ],
      "execution_count": 0,
      "outputs": [
        {
          "output_type": "stream",
          "text": [
            "Drive already mounted at /content/drive; to attempt to forcibly remount, call drive.mount(\"/content/drive\", force_remount=True).\n"
          ],
          "name": "stdout"
        }
      ]
    },
    {
      "cell_type": "code",
      "metadata": {
        "id": "tEt2xDu59PET",
        "colab_type": "code",
        "colab": {}
      },
      "source": [
        "import os\n",
        "import time\n",
        "import shutil"
      ],
      "execution_count": 0,
      "outputs": []
    },
    {
      "cell_type": "code",
      "metadata": {
        "id": "uKEzIzATGAPE",
        "colab_type": "code",
        "outputId": "22ebd63a-c52d-498a-9c02-1229502ca408",
        "colab": {
          "base_uri": "https://localhost:8080/",
          "height": 34
        }
      },
      "source": [
        "len(os.listdir(\"drive/My Drive/Data/Images/\"))"
      ],
      "execution_count": 0,
      "outputs": [
        {
          "output_type": "execute_result",
          "data": {
            "text/plain": [
              "32129"
            ]
          },
          "metadata": {
            "tags": []
          },
          "execution_count": 9
        }
      ]
    },
    {
      "cell_type": "code",
      "metadata": {
        "id": "8USMLZ6-TK0g",
        "colab_type": "code",
        "colab": {}
      },
      "source": [
        "np.random.seed(0)"
      ],
      "execution_count": 0,
      "outputs": []
    },
    {
      "cell_type": "code",
      "metadata": {
        "id": "sH5dr6JIaISw",
        "colab_type": "code",
        "colab": {}
      },
      "source": [
        "# os.chdir('drive')\n",
        "os.chdir('..')\n",
        "os.chdir('content')"
      ],
      "execution_count": 0,
      "outputs": []
    },
    {
      "cell_type": "code",
      "metadata": {
        "id": "4QMkArP7F4E5",
        "colab_type": "code",
        "colab": {}
      },
      "source": [
        "#RUN1\n",
        "\n",
        "def prepare_image(image):\n",
        "    \"\"\"\n",
        "    prepare_image accepts a PIL image as input and transforms it so as to fit into the input format of resnet-50.\n",
        "    The dimensions of the output remain constant (224 x 224) so that a uniformity is maintained in the code\n",
        "    \"\"\"\n",
        "    if image.mode != 'RGB':\n",
        "        image = image.convert(\"RGB\")\n",
        "    Transform = transforms.Compose([\n",
        "            transforms.Resize([224,224]),      \n",
        "            transforms.ToTensor(),\n",
        "            ])\n",
        "    image = Transform(image)   \n",
        "    image = image.unsqueeze(0)\n",
        "    return image.to(device)"
      ],
      "execution_count": 0,
      "outputs": []
    },
    {
      "cell_type": "code",
      "metadata": {
        "id": "-9hTgeqo8yzl",
        "colab_type": "code",
        "colab": {}
      },
      "source": [
        "#RUN2\n",
        "\n",
        "#making pdip csv with left more popular\n",
        "data_files_path = \"drive/My Drive/Data/Tweets/\"\n",
        "data_folder = [data_files_path + f for f in os.listdir(data_files_path) if \"data_#\" in f]"
      ],
      "execution_count": 0,
      "outputs": []
    },
    {
      "cell_type": "markdown",
      "metadata": {
        "id": "B7OVDrY2wU0a",
        "colab_type": "text"
      },
      "source": [
        "# Retweets and Likes"
      ]
    },
    {
      "cell_type": "code",
      "metadata": {
        "id": "M3xMp10Fv7Vd",
        "colab_type": "code",
        "colab": {}
      },
      "source": [
        "def totcount(arr1,arr2):\n",
        "\n",
        "     \"\"\"\n",
        "    totcount(arr1,arr2) takes in two tweets arr1, and arr2 in json format, and returns a value according to the equation: 0.7*retweet_count + 0.3*favorite_count\n",
        "    The two scalar values 0.7 and 0.3 were obtained after training the model with 3 different combinations of iterations: [(0.6, 0.4),(0.7,0.3), and (0.8, 0.2)]\n",
        "    \"\"\"\n",
        "    \n",
        "    if arr1=='tweet_1' or arr2=='tweet_1':\n",
        "        return None\n",
        "    else:\n",
        "\n",
        "        rcfc1=arr1[arr1.find(\"retweet_count\"):arr1.find(\"favorited\")-3].split(\" \")\n",
        "        # print(rcfc1)\n",
        "        rc1=rcfc1[1][:-1]\n",
        "        # print(rc1)\n",
        "        fc1=rcfc1[3]\n",
        "        # print(fc1)\n",
        "        tot1=(0.7)*int(rc1)+int(fc1)*(0.3)\n",
        "        ind1 = arr1.find(\"id_str\")\n",
        "        img_name_1 = arr1[ind1+10:ind1+29]\n",
        "        ind1 = arr1.find(\"media_url\")+13\n",
        "        ind2 = arr1.find(\"media_url_http\")\n",
        "        media_url1 = arr1[ind1:ind2-4]\n",
        "\n",
        "        rcfc2=arr2[arr2.find(\"retweet_count\"):arr2.find(\"favorited\")-3].split(\" \")\n",
        "        # print(rcfc2)\n",
        "        rc2=rcfc2[1][:-1]\n",
        "        # print(rc2)\n",
        "        fc2=rcfc2[3]\n",
        "        # print(fc2)\n",
        "        tot2=(0.7)*int(rc2)+int(fc2)*(0.3)\n",
        "        ind2 = arr2.find(\"id_str\")\n",
        "        img_name_2 = arr2[ind2+10:ind2+29]\n",
        "        ind1 = arr2.find(\"media_url\")+13\n",
        "        ind2 = arr2.find(\"media_url_http\")\n",
        "        media_url2 = arr2[ind1:ind2-4]\n",
        "\n",
        "        return( (tot1, img_name_1, media_url1, tot2, img_name_2, media_url2))\n",
        "        # return( ceil(tot1), ceil(tot2) )"
      ],
      "execution_count": 0,
      "outputs": []
    },
    {
      "cell_type": "code",
      "metadata": {
        "id": "ki9ueAAC0lTm",
        "colab_type": "code",
        "colab": {}
      },
      "source": [
        "os.chdir(\"drive/My Drive/Data/Tweets\")"
      ],
      "execution_count": 0,
      "outputs": []
    },
    {
      "cell_type": "code",
      "metadata": {
        "id": "SbXs7bDI3mY6",
        "colab_type": "code",
        "outputId": "9ab5dab6-8890-40f8-8bba-d3288a06c23a",
        "colab": {
          "base_uri": "https://localhost:8080/",
          "height": 34
        }
      },
      "source": [
        "#Get a list of all tweet files: alltweets\n",
        "\n",
        "\n",
        "alltweets=os.listdir()\n",
        "datafile=[]\n",
        "tweetfile=[]\n",
        "\n",
        "for i in alltweets:\n",
        "    if i[0:1]=='d':\n",
        "         datafile.append(i) \n",
        "    elif i[0:1]=='t':\n",
        "        tweetfile.append(i)\n",
        "    else:\n",
        "        print(i)"
      ],
      "execution_count": 0,
      "outputs": [
        {
          "output_type": "stream",
          "text": [
            ".DS_Store\n"
          ],
          "name": "stdout"
        }
      ]
    },
    {
      "cell_type": "code",
      "metadata": {
        "id": "w6LScYaC3uRz",
        "colab_type": "code",
        "colab": {}
      },
      "source": [
        "os.chdir(\"..\")\n",
        "os.chdir(\"Tweets\")"
      ],
      "execution_count": 0,
      "outputs": []
    },
    {
      "cell_type": "code",
      "metadata": {
        "id": "xkuNl6zQEYYu",
        "colab_type": "code",
        "outputId": "32137a9c-2105-4a31-de2d-6c795d38a51c",
        "colab": {
          "base_uri": "https://localhost:8080/",
          "height": 34
        }
      },
      "source": [
        "os.chdir(\"..\")\n",
        "os.chdir(\"Images\")\n",
        "img_list = os.listdir()\n",
        "len(img_list)"
      ],
      "execution_count": 0,
      "outputs": [
        {
          "output_type": "execute_result",
          "data": {
            "text/plain": [
              "32129"
            ]
          },
          "metadata": {
            "tags": []
          },
          "execution_count": 26
        }
      ]
    },
    {
      "cell_type": "code",
      "metadata": {
        "id": "q5-nvLPuFSoI",
        "colab_type": "code",
        "outputId": "d2546471-d578-44ac-b532-797e7a33d0f3",
        "colab": {
          "base_uri": "https://localhost:8080/",
          "height": 34
        }
      },
      "source": [
        "os.chdir(\"..\")\n",
        "os.chdir(\"Tweets\")\n",
        "os.getcwd()"
      ],
      "execution_count": 0,
      "outputs": [
        {
          "output_type": "execute_result",
          "data": {
            "text/plain": [
              "'/content/drive/My Drive/Data/Tweets'"
            ]
          },
          "metadata": {
            "tags": []
          },
          "execution_count": 27
        }
      ]
    },
    {
      "cell_type": "code",
      "metadata": {
        "id": "vGSNMIoKwAwe",
        "colab_type": "code",
        "colab": {}
      },
      "source": [
        "# Get the pdip_dataset with pairs of images in pdip_strict\n",
        "\n",
        "k=0\n",
        "count_lives = 0\n",
        "pdip_strict = []\n",
        "not_present = []\n",
        "for i in tweetfile:\n",
        "    arr1=[]\n",
        "    arr2=[]\n",
        "    # print(i)\n",
        "    twt=pd.read_csv(i)\n",
        "    for j in range(0,twt.shape[0]):\n",
        "        x1temp = twt.iloc[j][0]\n",
        "        x2temp = twt.iloc[j][1]\n",
        "        tup = totcount(twt.iloc[j][0],twt.iloc[j][1])\n",
        "        if tup==None: continue\n",
        "        t1,img1_name,media_url1,t2,img2_name,media_url2 = tup[0],tup[1],tup[2],tup[3],tup[4],tup[5]\n",
        "        \n",
        "        # t1,img1_name,t2,img2_name=totcount(twt.iloc[j][0],twt.iloc[j][1])\n",
        "        # arr1.append(t1)\n",
        "        # arr2.append(t2)\n",
        "        if img1_name == img2_name:\n",
        "            count_lives += 1\n",
        "        if t1==t2:\n",
        "            k+=1\n",
        "        flag = 0\n",
        "        if (img1_name+\".jpg\") not in img_list:\n",
        "            not_present.append([img1_name,media_url1])\n",
        "            flag = 1\n",
        "        if (img2_name+\".jpg\") not in img_list:\n",
        "            not_present.append([img2_name,media_url2])\n",
        "            flag = 1\n",
        "        # print(flag)\n",
        "        if flag == 1:\n",
        "            continue\n",
        "        # print(t1,t2)\n",
        "        if t1 < t2:\n",
        "            pdip_strict.append([img1_name,img2_name])\n",
        "        elif t2 > t1:\n",
        "            pdip_strict.append([img2_name,img1_name])\n",
        "        elif t1 != 0:\n",
        "            pdip_strict.append([img2_name,img1_name])\n",
        "\n",
        "        \n",
        "    # print(arr1)\n",
        "    # print(arr2)\n",
        "\n",
        "\n",
        "# print(k)"
      ],
      "execution_count": 0,
      "outputs": []
    },
    {
      "cell_type": "code",
      "metadata": {
        "id": "IzXXVDFTTDN9",
        "colab_type": "code",
        "colab": {}
      },
      "source": [
        ""
      ],
      "execution_count": 0,
      "outputs": []
    },
    {
      "cell_type": "code",
      "metadata": {
        "id": "tlNbGAJvLTFh",
        "colab_type": "code",
        "outputId": "fa4e5be1-b431-4f55-cffe-8cbc3b3db66e",
        "colab": {
          "base_uri": "https://localhost:8080/",
          "height": 34
        }
      },
      "source": [
        "\n",
        "pdip_strict = np.asarray(pdip_strict)\n",
        "\n",
        "np.random.shuffle(pdip_strict)\n",
        "\n",
        "#change this according to your val\n",
        "\n",
        "pdip_val = pdip_strict[10000:14000]"
      ],
      "execution_count": 0,
      "outputs": [
        {
          "output_type": "execute_result",
          "data": {
            "text/plain": [
              "14596"
            ]
          },
          "metadata": {
            "tags": []
          },
          "execution_count": 30
        }
      ]
    },
    {
      "cell_type": "code",
      "metadata": {
        "id": "Sy-PB18A699_",
        "colab_type": "code",
        "outputId": "5919a989-aef3-4a28-9ac8-820515e26dd1",
        "colab": {
          "base_uri": "https://localhost:8080/",
          "height": 34
        }
      },
      "source": [
        "# os.chdir(\"..\")\n",
        "# os.chdir(\"Images\")\n",
        "os.getcwd()"
      ],
      "execution_count": 0,
      "outputs": [
        {
          "output_type": "execute_result",
          "data": {
            "text/plain": [
              "'/content/drive/My Drive/Data/Tweets'"
            ]
          },
          "metadata": {
            "tags": []
          },
          "execution_count": 31
        }
      ]
    },
    {
      "cell_type": "markdown",
      "metadata": {
        "id": "erwBV8BSbDFs",
        "colab_type": "text"
      },
      "source": [
        "Train Code"
      ]
    },
    {
      "cell_type": "code",
      "metadata": {
        "id": "UJANBjfpjJy8",
        "colab_type": "code",
        "colab": {}
      },
      "source": [
        "import os\n",
        "import tweepy\n",
        "import pandas as pd\n",
        "from json import dump\n",
        "from json import *\n",
        "# !pip install wget\n",
        "import wget\n",
        "from datetime import date\n",
        "import numpy as np\n",
        "import csv\n",
        "\n",
        "import re\n",
        "import urllib\n",
        "import zipfile"
      ],
      "execution_count": 0,
      "outputs": []
    },
    {
      "cell_type": "code",
      "metadata": {
        "id": "iTJLcNa9SeeB",
        "colab_type": "code",
        "colab": {}
      },
      "source": [
        "#Calculate the loss in every iteration to backpropagate\n",
        "\n",
        "def loss_helper(P_ab, Phat_ab):\n",
        "    l = -(Phat_ab*torch.log(P_ab)) - ((1-Phat_ab)*torch.log(1-P_ab))\n",
        "    return torch.mean(l)\n",
        "\n",
        "def my_loss(f_a,f_b,target):\n",
        "    O_ab = f_a - f_b\n",
        "    P_ab = torch.exp(O_ab)/(1+torch.exp(O_ab))\n",
        "    return loss_helper(P_ab,target)"
      ],
      "execution_count": 0,
      "outputs": []
    },
    {
      "cell_type": "code",
      "metadata": {
        "id": "F8N_mSdl4fHG",
        "colab_type": "code",
        "colab": {}
      },
      "source": [
        "def train_model(model, optimizer, scheduler, num_epochs=25):\n",
        "\n",
        "    \"\"\"\n",
        "    take the pretrained model, scheduler, number of epochs, and optimizer and input and perform forward propagation on the train and test set. after that calculate loss and accuracy for each and using the loss from train set, perform back propagation\n",
        "    \"\"\"\n",
        "\n",
        "    since = time.time()\n",
        "\n",
        "    best_model_wts = copy.deepcopy(model.state_dict())\n",
        "    best_acc = 0.0\n",
        "\n",
        "    for epoch in range(num_epochs):\n",
        "        print('Epoch {}/{}'.format(epoch, num_epochs - 1))\n",
        "        print('-' * 10)\n",
        "\n",
        "        model.train()\n",
        "\n",
        "        running_loss = 0.0\n",
        "        running_corrects = 0.0\n",
        "\n",
        "        for i in range(len(train_data)):\n",
        "            # im1 = prepare_image(train_data[i][0])\n",
        "            # im2 = prepare_image(train_data[i][1])\n",
        "            im1 = train_data[i][0]\n",
        "            im2 = train_data[i][1]\n",
        "            \n",
        "            label = (float)(train_label[i])\n",
        "            # print(label)\n",
        "            optimizer.zero_grad()\n",
        "\n",
        "            with torch.set_grad_enabled(True):\n",
        "                op1 = (model(im1))\n",
        "                op2 = (model(im2))\n",
        "                if op1>op2:\n",
        "                    output_label = 1.0\n",
        "                else:\n",
        "                    output_label = 0.0\n",
        "                # loss = my_loss(op1,op2,output_label)\n",
        "                loss = my_loss(op1,op2,label)\n",
        "\n",
        "                loss.backward()\n",
        "                optimizer.step()\n",
        "\n",
        "                running_loss += loss.item()\n",
        "                if output_label == label:\n",
        "                    running_corrects += 1\n",
        "        \n",
        "        epoch_loss = (float)(running_loss / len(train_data))\n",
        "        epoch_acc = (float)(running_corrects / len(train_data))\n",
        "\n",
        "        print(\"train loss:\",epoch_loss,\"train accuracy:\",epoch_acc)\n",
        "\n",
        "        # model.eval()\n",
        "        running_loss = 0.0\n",
        "        running_corrects = 0.0\n",
        "\n",
        "        for i in range(len(test_data)):\n",
        "            # im1 = prepare_image(test_data[i][0])\n",
        "            # im2 = prepare_image(test_data[i][1])\n",
        "            im1 = test_data[i][0]\n",
        "            im2 = test_data[i][1]\n",
        "\n",
        "            label = (float)(test_label[i])\n",
        "\n",
        "            with torch.set_grad_enabled(False):\n",
        "                op1 = (model(im1))\n",
        "                op2 = (model(im2))\n",
        "                if op1>op2:\n",
        "                    output_label = 1.0\n",
        "                else:\n",
        "                    output_label = 0.0\n",
        "\n",
        "            # loss = my_loss(op1,op2,output_label)\n",
        "            loss = my_loss(op1,op2,label)\n",
        "            running_loss += loss.item()\n",
        "            if output_label == label:\n",
        "                running_corrects += 1\n",
        "        \n",
        "        epoch_loss = (float)(running_loss / len(test_data))\n",
        "        epoch_acc = (float)(running_corrects / len(test_data))\n",
        "\n",
        "        print(\"val loss:\",epoch_loss,\"val accuracy:\",epoch_acc)\n",
        "\n",
        "        if epoch_acc > best_acc:\n",
        "            best_acc = epoch_acc\n",
        "            best_model_wts = copy.deepcopy(model.state_dict())\n",
        "\n",
        "    time_elapsed = time.time() - since\n",
        "    print('Training complete in {:.0f}m {:.0f}s'.format(\n",
        "        time_elapsed // 60, time_elapsed % 60))\n",
        "    print('Best val Acc: {:4f}'.format(best_acc))\n",
        "\n",
        "    # load best model weights\n",
        "    model.load_state_dict(best_model_wts)\n",
        "    return model"
      ],
      "execution_count": 0,
      "outputs": []
    },
    {
      "cell_type": "code",
      "metadata": {
        "id": "J8nLBFuj584-",
        "colab_type": "code",
        "colab": {}
      },
      "source": [
        "# Batch propagation\n",
        "\n",
        "def test_model(model, optimizer, scheduler, num_epochs=25):\n",
        "    # print the validation accuracies\n",
        "\n",
        "    since = time.time()\n",
        "\n",
        "    best_model_wts = copy.deepcopy(model.state_dict())\n",
        "    best_acc = 0.0\n",
        "    num_epochs = 1\n",
        "    for epoch in range(num_epochs):\n",
        "        print('Epoch {}/{}'.format(epoch, num_epochs - 1))\n",
        "        print('-' * 10)\n",
        "\n",
        "        model.train()\n",
        "\n",
        "        running_loss = 0.0\n",
        "        running_corrects = 0.0\n",
        "\n",
        "        # model.eval()\n",
        "        running_loss = 0.0\n",
        "        running_corrects = 0.0\n",
        "\n",
        "        for i in range(len(test_data)):\n",
        "            # im1 = prepare_image(test_data[i][0])\n",
        "            # im2 = prepare_image(test_data[i][1])\n",
        "            im1 = test_data[i][0]\n",
        "            im2 = test_data[i][1]\n",
        "\n",
        "            label = (float)(test_label[i])\n",
        "\n",
        "            with torch.set_grad_enabled(False):\n",
        "                op1 = (model(im1))\n",
        "                op2 = (model(im2))\n",
        "                if op1>op2:\n",
        "                    output_label = 1.0\n",
        "                else:\n",
        "                    output_label = 0.0\n",
        "\n",
        "            # loss = my_loss(op1,op2,output_label)\n",
        "            loss = my_loss(op1,op2,label)\n",
        "            running_loss += loss.item()\n",
        "            if output_label == label:\n",
        "                running_corrects += 1\n",
        "        \n",
        "        epoch_loss = (float)(running_loss / len(test_data))\n",
        "        epoch_acc = (float)(running_corrects / len(test_data))\n",
        "\n",
        "        print(\"val loss:\",epoch_loss,\"val accuracy:\",epoch_acc)\n",
        "\n",
        "        if epoch_acc > best_acc:\n",
        "            best_acc = epoch_acc\n",
        "            best_model_wts = copy.deepcopy(model.state_dict())\n",
        "\n",
        "    time_elapsed = time.time() - since\n",
        "    print('Training complete in {:.0f}m {:.0f}s'.format(\n",
        "        time_elapsed // 60, time_elapsed % 60))\n",
        "    print('Best val Acc: {:4f}'.format(best_acc))\n",
        "\n",
        "    # load best model weights\n",
        "    model.load_state_dict(best_model_wts)\n",
        "    return model\n",
        "\n",
        "for i in range(0,21):\n",
        "\n",
        "    # print test accuracies\n",
        "\n",
        "    print((i%6)*2000,\"to\",((i%6))*2000+2000)\n",
        "    pdip = np.asarray(pdip_strict)[(i%7)*2000:((i%7)+1)*2000]\n",
        "    # np.random.shuffle(pdip)\n",
        "\n",
        "    train_test_mark = int(pdip_train.shape[0]*0.8)\n",
        "\n",
        "    temp = []\n",
        "    img_not_found = []\n",
        "    for i in pdip:\n",
        "        if (i[0]+\".jpg\") in img_names and (i[1]+\".jpg\") in img_names:\n",
        "            temp.append([int(i[0]),int(i[1])])\n",
        "        elif (i[0]+\".jpg\") in img_names:\n",
        "            img_not_found.append(i[1])\n",
        "        elif (i[1]+\".jpg\") in img_names:\n",
        "            img_not_found.append(i[0])\n",
        "        else:\n",
        "            img_not_found.append(i[0])\n",
        "            img_not_found.append(i[1])\n",
        "    pdip_train = np.asarray(temp)\n",
        "\n",
        "\n",
        "    train_data = []\n",
        "    test_data = []\n",
        "    train_label = []\n",
        "    test_label = []\n",
        "\n",
        "    counter = 0\n",
        "\n",
        "    counter = 0\n",
        "    for img_p in pdip_train[train_test_mark:]:\n",
        "        print(counter)\n",
        "        counter += 1\n",
        "        ipins = []\n",
        "        label = -1\n",
        "        ipins = [ prepare_image(Image.open(\"drive/My Drive/Data/Images/\"+str(img_p[0])+\".jpg\") ), prepare_image( Image.open(\"drive/My Drive/Data/Images/\"+str(img_p[1])+\".jpg\") ) ]\n",
        "        label = 1\n",
        "        test_data.append(ipins)\n",
        "        test_label.append(label)\n",
        "    print(\"creating test done\")\n",
        "    train_len = train_test_mark\n",
        "\n",
        "    train_len=len(train_data)\n",
        "    val_len = pdip_train.shape[0] - train_test_mark\n",
        "\n",
        "    model_ft = torchvision.models.resnet50()\n",
        "    # model.avgpool = nn.AdaptiveAvgPool2d(1) # for any size of the input\n",
        "    model_ft.fc = torch.nn.Linear(in_features=2048, out_features=1)\n",
        "    model_ft.load_state_dict(torch.load('drive/My Drive/temp', map_location=device)) \n",
        "    model_ft.eval().to(device)\n",
        "    print()\n",
        "    num_ftrs = model_ft.fc.in_features\n",
        "    # model_ft.fc = nn.Linear(num_ftrs, 2)\n",
        "\n",
        "    model_ft = model_ft.to(device)\n",
        "\n",
        "\n",
        "    # Observe that all parameters are being optimized\n",
        "    optimizer_ft = torch.optim.SGD(model_ft.parameters(), lr=0.00001, momentum=0.9)\n",
        "\n",
        "    # Decay LR by a factor of 0.1 every 7 epochs\n",
        "    exp_lr_scheduler = torch.optim.lr_scheduler.StepLR(optimizer_ft, step_size=7, gamma=0.5)\n",
        "\n",
        "    print(len(train_data),len(test_data))\n",
        "    test_model(model_ft, optimizer_ft, exp_lr_scheduler,num_epochs=9)           \n",
        "\n"
      ],
      "execution_count": 0,
      "outputs": []
    },
    {
      "cell_type": "code",
      "metadata": {
        "id": "d7fpjYjIdava",
        "colab_type": "code",
        "colab": {}
      },
      "source": [
        "#this is where we do part by part\n",
        "pdip = np.asarray(pdip_strict)[:2000]\n",
        "# np.random.shuffle(pdip)"
      ],
      "execution_count": 0,
      "outputs": []
    },
    {
      "cell_type": "code",
      "metadata": {
        "id": "kfyh7HPYHZ-N",
        "colab_type": "code",
        "outputId": "f639dc70-35f1-4688-bbc6-02c771473b4f",
        "colab": {
          "base_uri": "https://localhost:8080/",
          "height": 34
        }
      },
      "source": [
        "os.getcwd()"
      ],
      "execution_count": 0,
      "outputs": [
        {
          "output_type": "execute_result",
          "data": {
            "text/plain": [
              "'/content/drive/My Drive/Data/Tweets'"
            ]
          },
          "metadata": {
            "tags": []
          },
          "execution_count": 41
        }
      ]
    },
    {
      "cell_type": "code",
      "metadata": {
        "id": "vc0-qwqbMBWz",
        "colab_type": "code",
        "colab": {}
      },
      "source": [
        "os.chdir(\"../../../..\")"
      ],
      "execution_count": 0,
      "outputs": []
    },
    {
      "cell_type": "code",
      "metadata": {
        "id": "3yYfbkNOL8qh",
        "colab_type": "code",
        "outputId": "0a373723-f378-4888-86cc-8e25bd34ad24",
        "colab": {
          "base_uri": "https://localhost:8080/",
          "height": 34
        }
      },
      "source": [
        "os.getcwd()"
      ],
      "execution_count": 0,
      "outputs": [
        {
          "output_type": "execute_result",
          "data": {
            "text/plain": [
              "'/content'"
            ]
          },
          "metadata": {
            "tags": []
          },
          "execution_count": 43
        }
      ]
    },
    {
      "cell_type": "code",
      "metadata": {
        "id": "lK_yttKpkRjn",
        "colab_type": "code",
        "colab": {}
      },
      "source": [
        "img_folder_path = \"drive/My Drive/Data/Images/\"\n"
      ],
      "execution_count": 0,
      "outputs": []
    },
    {
      "cell_type": "code",
      "metadata": {
        "id": "4aEuxy83pqMl",
        "colab_type": "code",
        "colab": {}
      },
      "source": [
        "img_paths = [img_folder_path+\"/\" + f for f in os.listdir(img_folder_path)]\n",
        "img_names = [f for f in os.listdir(img_folder_path)]"
      ],
      "execution_count": 0,
      "outputs": []
    },
    {
      "cell_type": "code",
      "metadata": {
        "id": "NnAkqBqxm029",
        "colab_type": "code",
        "colab": {}
      },
      "source": [
        "#make sure both images from each pair are present in the dataset\n",
        "\n",
        "temp = []\n",
        "img_not_found = []\n",
        "for i in pdip:\n",
        "    if (i[0]+\".jpg\") in img_names and (i[1]+\".jpg\") in img_names:\n",
        "        temp.append([int(i[0]),int(i[1])])\n",
        "    elif (i[0]+\".jpg\") in img_names:\n",
        "        img_not_found.append(i[1])\n",
        "    elif (i[1]+\".jpg\") in img_names:\n",
        "        img_not_found.append(i[0])\n",
        "    else:\n",
        "        img_not_found.append(i[0])\n",
        "        img_not_found.append(i[1])\n",
        "pdip_train = np.asarray(temp)"
      ],
      "execution_count": 0,
      "outputs": []
    },
    {
      "cell_type": "code",
      "metadata": {
        "id": "VbSPVVr5AZBn",
        "colab_type": "code",
        "colab": {}
      },
      "source": [
        "# for the train set, shuffle the columns in each row and set the label accordingly so that there is equal distribution of pairs with the left image more popular, and pairs with the right image more popular\n",
        "\n",
        "train_test_mark = int(pdip_train.shape[0]*0.8)\n",
        "train_data = []\n",
        "test_data = []\n",
        "train_label = []\n",
        "test_label = []\n",
        "\n",
        "counter = 0\n",
        "\n",
        "for img_p in pdip_train[:train_test_mark]:\n",
        "    if counter%50==0:\n",
        "        print(counter)\n",
        "    counter += 1\n",
        "    ipins = []\n",
        "    label = -1\n",
        "    if random.uniform(0,1) > 0.5:\n",
        "        ipins = [  prepare_image(Image.open(\"drive/My Drive/Data/Images/\"+str(img_p[0])+\".jpg\") ), prepare_image( Image.open(\"drive/My Drive/Data/Images/\"+str(img_p[1])+\".jpg\") ) ]\n",
        "        label = 1\n",
        "    else:\n",
        "        ipins = [  prepare_image(Image.open(\"drive/My Drive/Data/Images/\"+str(img_p[1])+\".jpg\") ), prepare_image( Image.open(\"drive/My Drive/Data/Images/\"+str(img_p[0])+\".jpg\") ) ]\n",
        "        label = 0\n",
        "    train_data.append(ipins)\n",
        "    train_label.append(label)\n",
        "    # if counter==2000:\n",
        "    #     break\n",
        "\n"
      ],
      "execution_count": 0,
      "outputs": []
    },
    {
      "cell_type": "code",
      "metadata": {
        "id": "7u6UvqJ1w-D_",
        "colab_type": "code",
        "colab": {}
      },
      "source": [
        "print(\"train done\")\n",
        "#create a test dataset after ensuring all images are present in the dataset\n",
        "counter = 0\n",
        "for img_p in pdip_train[train_test_mark:]:\n",
        "    counter += 1\n",
        "    if counter % 50 == 0:\n",
        "        print(counter)\n",
        "    ipins = []\n",
        "    label = -1\n",
        "    ipins = [ prepare_image(Image.open(\"drive/My Drive/Data/Images/\"+str(img_p[0])+\".jpg\") ), prepare_image( Image.open(\"drive/My Drive/Data/Images/\"+str(img_p[1])+\".jpg\") ) ]\n",
        "    label = 1\n",
        "    test_data.append(ipins)\n",
        "    test_label.append(label)\n",
        "print(\"test done\")\n"
      ],
      "execution_count": 0,
      "outputs": []
    },
    {
      "cell_type": "code",
      "metadata": {
        "id": "pfk6DkMPMjL_",
        "colab_type": "code",
        "colab": {}
      },
      "source": [
        "train_len = train_test_mark\n",
        "\n",
        "train_len=len(train_data)\n",
        "val_len = pdip_train.shape[0] - train_test_mark"
      ],
      "execution_count": 0,
      "outputs": []
    },
    {
      "cell_type": "code",
      "metadata": {
        "id": "ksHdMKwrYmbw",
        "colab_type": "code",
        "outputId": "e3ed9002-3a48-4f48-bb8b-c6b16337a0b7",
        "colab": {
          "base_uri": "https://localhost:8080/",
          "height": 34
        }
      },
      "source": [
        "#load the pretrained model\n",
        "model_ft = torchvision.models.resnet50()\n",
        "# model.avgpool = nn.AdaptiveAvgPool2d(1) # for any size of the input\n",
        "model_ft.fc = torch.nn.Linear(in_features=2048, out_features=1)\n",
        "model_ft.load_state_dict(torch.load('drive/My Drive/temp', map_location=device)) \n",
        "model_ft.eval().to(device)\n",
        "print()"
      ],
      "execution_count": 0,
      "outputs": [
        {
          "output_type": "stream",
          "text": [
            "\n"
          ],
          "name": "stdout"
        }
      ]
    },
    {
      "cell_type": "code",
      "metadata": {
        "id": "XwYutkqc2SWB",
        "colab_type": "code",
        "colab": {}
      },
      "source": [
        "#initialize an optimizer and scheduler\n",
        "num_ftrs = model_ft.fc.in_features\n",
        "# model_ft.fc = nn.Linear(num_ftrs, 2)\n",
        "\n",
        "model_ft = model_ft.to(device)\n",
        "\n",
        "\n",
        "# Observe that all parameters are being optimized\n",
        "optimizer_ft = torch.optim.SGD(model_ft.parameters(), lr=0.00001, momentum=0.9)\n",
        "\n",
        "# Decay LR by a factor of 0.1 every 7 epochs\n",
        "exp_lr_scheduler = torch.optim.lr_scheduler.StepLR(optimizer_ft, step_size=7, gamma=0.5)"
      ],
      "execution_count": 0,
      "outputs": []
    },
    {
      "cell_type": "code",
      "metadata": {
        "id": "Z4-BB_b54Lmh",
        "colab_type": "code",
        "colab": {}
      },
      "source": [
        "# probability = 1 --> img1 is popular\n",
        "# probability = 0 --> img2 is popular"
      ],
      "execution_count": 0,
      "outputs": []
    },
    {
      "cell_type": "code",
      "metadata": {
        "id": "BQczC0Bq2RkM",
        "colab_type": "code",
        "colab": {}
      },
      "source": [
        "print(len(train_data),len(test_data))\n",
        "# train the model\n",
        "model_ft = train_model(model_ft, optimizer_ft, exp_lr_scheduler,num_epochs=9)"
      ],
      "execution_count": 0,
      "outputs": []
    },
    {
      "cell_type": "code",
      "metadata": {
        "id": "sheHsa2J2REj",
        "colab_type": "code",
        "colab": {}
      },
      "source": [
        "torch.save(model_ft.state_dict(),'drive/My Drive/temp')"
      ],
      "execution_count": 0,
      "outputs": []
    },
    {
      "cell_type": "code",
      "metadata": {
        "id": "Mgjg1tVJDRD5",
        "colab_type": "code",
        "colab": {}
      },
      "source": [
        "# perform Batch propagation on the model to fine tune to twitter\n",
        "\n",
        "for i in range(1,21):\n",
        "    print((i%6)*2000,\"to\",((i%6))*2000+2000)\n",
        "    pdip = np.asarray(pdip_strict)[(i%7)*2000:((i%7)+1)*2000]\n",
        "    # np.random.shuffle(pdip)\n",
        "\n",
        "    train_test_mark = int(pdip_train.shape[0]*0.8)\n",
        "\n",
        "    temp = []\n",
        "    img_not_found = []\n",
        "    for i in pdip:\n",
        "        if (i[0]+\".jpg\") in img_names and (i[1]+\".jpg\") in img_names:\n",
        "            temp.append([int(i[0]),int(i[1])])\n",
        "        elif (i[0]+\".jpg\") in img_names:\n",
        "            img_not_found.append(i[1])\n",
        "        elif (i[1]+\".jpg\") in img_names:\n",
        "            img_not_found.append(i[0])\n",
        "        else:\n",
        "            img_not_found.append(i[0])\n",
        "            img_not_found.append(i[1])\n",
        "    pdip_train = np.asarray(temp)\n",
        "\n",
        "\n",
        "    train_data = []\n",
        "    test_data = []\n",
        "    train_label = []\n",
        "    test_label = []\n",
        "\n",
        "    counter = 0\n",
        "\n",
        "    for img_p in pdip_train[:train_test_mark]:\n",
        "        if counter%50==0:\n",
        "            print(counter)\n",
        "        counter += 1\n",
        "        ipins = []\n",
        "        label = -1\n",
        "        if random.uniform(0,1) > 0.5:\n",
        "            ipins = [  prepare_image(Image.open(\"drive/My Drive/Data/Images/\"+str(img_p[0])+\".jpg\") ), prepare_image( Image.open(\"drive/My Drive/Data/Images/\"+str(img_p[1])+\".jpg\") ) ]\n",
        "            label = 1\n",
        "        else:\n",
        "            ipins = [  prepare_image(Image.open(\"drive/My Drive/Data/Images/\"+str(img_p[1])+\".jpg\") ), prepare_image( Image.open(\"drive/My Drive/Data/Images/\"+str(img_p[0])+\".jpg\") ) ]\n",
        "            label = 0\n",
        "        train_data.append(ipins)\n",
        "        train_label.append(label)\n",
        "        # if counter==2000:\n",
        "        #     break\n",
        "    print(\"creating train done\")\n",
        "\n",
        "    counter = 0\n",
        "    for img_p in pdip_train[train_test_mark:]:\n",
        "        print(counter)\n",
        "        counter += 1\n",
        "        ipins = []\n",
        "        label = -1\n",
        "        ipins = [ prepare_image(Image.open(\"drive/My Drive/Data/Images/\"+str(img_p[0])+\".jpg\") ), prepare_image( Image.open(\"drive/My Drive/Data/Images/\"+str(img_p[1])+\".jpg\") ) ]\n",
        "        label = 1\n",
        "        test_data.append(ipins)\n",
        "        test_label.append(label)\n",
        "    print(\"creating test done\")\n",
        "    train_len = train_test_mark\n",
        "\n",
        "    train_len=len(train_data)\n",
        "    val_len = pdip_train.shape[0] - train_test_mark\n",
        "\n",
        "    model_ft = torchvision.models.resnet50()\n",
        "    # model.avgpool = nn.AdaptiveAvgPool2d(1) # for any size of the input\n",
        "    model_ft.fc = torch.nn.Linear(in_features=2048, out_features=1)\n",
        "    model_ft.load_state_dict(torch.load('drive/My Drive/temp', map_location=device)) \n",
        "    model_ft.eval().to(device)\n",
        "    print()\n",
        "    num_ftrs = model_ft.fc.in_features\n",
        "    # model_ft.fc = nn.Linear(num_ftrs, 2)\n",
        "\n",
        "    model_ft = model_ft.to(device)\n",
        "\n",
        "\n",
        "    # Observe that all parameters are being optimized\n",
        "    optimizer_ft = torch.optim.SGD(model_ft.parameters(), lr=0.00001, momentum=0.9)\n",
        "\n",
        "    # Decay LR by a factor of 0.1 every 7 epochs\n",
        "    exp_lr_scheduler = torch.optim.lr_scheduler.StepLR(optimizer_ft, step_size=7, gamma=0.5)\n",
        "\n",
        "    print(len(train_data),len(test_data))\n",
        "    model_ft = train_model(model_ft, optimizer_ft, exp_lr_scheduler,num_epochs=9)\n",
        "\n",
        "    torch.save(model_ft.state_dict(),'drive/My Drive/temp')"
      ],
      "execution_count": 0,
      "outputs": []
    }
  ]
}